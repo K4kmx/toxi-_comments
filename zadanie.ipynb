{
  "cells": [
    {
      "cell_type": "markdown",
      "source": [
        "#Модель распознавания нетоксичных комментариев"
      ],
      "metadata": {
        "id": "T6azhZRv4il_"
      }
    },
    {
      "cell_type": "markdown",
      "metadata": {
        "id": "pxux8LvBmb2n"
      },
      "source": [
        "**Описание данных**\n",
        "\n",
        "Данные находятся в файле `toxic_comments.csv`. Столбец *text* в нём содержит текст комментария, а *toxic* — целевой признак."
      ]
    },
    {
      "cell_type": "markdown",
      "source": [
        "Чтобы полностью охватить процесс обработки естественного языка, необходимо сделать следующие шаги:\n",
        "\n",
        "1.Токенизация: Разбиение текста на отдельные слова или токены.\n",
        "\n",
        "2. Удаление стоп-слов: Исключение часто встречающихся слов, которые не несут значимой информации (например, предлоги, союзы).\n",
        "\n",
        "3. Стемминг или лемматизация: Приведение слов к их основной форме. Стемминг удаляет окончания слов, в то время как лемматизация учитывает грамматические особенности языка.\n",
        "\n",
        "4. Векторизация: Преобразование текста в числовые векторы, которые можно использовать для обучения моделей машинного обучения.\n",
        "\n",
        "5. Классификация или кластеризация: Использование алгоритмов машинного обучения для классификации или кластеризации текстовых данных."
      ],
      "metadata": {
        "id": "cNBGVj1Un_7c"
      }
    },
    {
      "cell_type": "markdown",
      "metadata": {
        "id": "jh10HSz2mb2n"
      },
      "source": [
        "## Подготовка"
      ]
    },
    {
      "cell_type": "code",
      "execution_count": 6,
      "metadata": {
        "colab": {
          "base_uri": "https://localhost:8080/"
        },
        "id": "lnLKRiComb2o",
        "outputId": "9f80cc4c-c4a5-4d4a-8548-018f27ac4f48"
      },
      "outputs": [
        {
          "output_type": "stream",
          "name": "stderr",
          "text": [
            "[nltk_data] Downloading package stopwords to /root/nltk_data...\n",
            "[nltk_data]   Package stopwords is already up-to-date!\n",
            "[nltk_data] Downloading package averaged_perceptron_tagger to\n",
            "[nltk_data]     /root/nltk_data...\n",
            "[nltk_data]   Package averaged_perceptron_tagger is already up-to-\n",
            "[nltk_data]       date!\n"
          ]
        }
      ],
      "source": [
        "import numpy as np\n",
        "import pandas as pd\n",
        "import re\n",
        "import nltk\n",
        "import spacy\n",
        "from nltk.tokenize import word_tokenize\n",
        "from nltk.stem import WordNetLemmatizer\n",
        "from nltk.corpus import wordnet\n",
        "from nltk.corpus import stopwords\n",
        "from nltk.corpus import stopwords as nltk_stopwords\n",
        "from joblib import Parallel, delayed\n",
        "from nltk import pos_tag\n",
        "import warnings\n",
        "warnings.filterwarnings('ignore')\n",
        "nltk.download('stopwords')\n",
        "nltk.download('averaged_perceptron_tagger')\n",
        "from sklearn.model_selection import train_test_split, GridSearchCV\n",
        "from sklearn.linear_model import LogisticRegression, SGDClassifier\n",
        "from sklearn.svm import SVC, LinearSVC\n",
        "from sklearn.naive_bayes import MultinomialNB\n",
        "from sklearn.feature_extraction.text import TfidfVectorizer\n",
        "from sklearn.metrics import f1_score\n",
        "from sklearn.metrics import classification_report, accuracy_score"
      ]
    },
    {
      "cell_type": "markdown",
      "metadata": {
        "id": "I7951su6mb2p"
      },
      "source": [
        "Загружаем все необходимые библиотеки"
      ]
    },
    {
      "cell_type": "code",
      "execution_count": 7,
      "metadata": {
        "colab": {
          "base_uri": "https://localhost:8080/",
          "height": 423
        },
        "id": "pqhzDtPimb2p",
        "outputId": "b858d473-acf3-4fab-b5bb-3df4cdcb53f0"
      },
      "outputs": [
        {
          "output_type": "execute_result",
          "data": {
            "text/plain": [
              "        Unnamed: 0                                               text  toxic\n",
              "31015        31055  Sometime back, I just happened to log on to ww...      0\n",
              "102832      102929  \"\\n\\nThe latest edit is much better, don't mak...      0\n",
              "67317        67385  \" October 2007 (UTC)\\n\\nI would think you'd be...      0\n",
              "81091        81167  Thanks for the tip on the currency translation...      0\n",
              "90091        90182  I would argue that if content on the Con in co...      0\n",
              "...            ...                                                ...    ...\n",
              "1028          1028  less likeable messages here. Mark I know you a...      0\n",
              "147303      147459  \"\\n\\n Nubsor \\n\\nHaving seen your heartfelt pl...      0\n",
              "109563      109660  \"\\n\\nSligocki, before removing valuable explan...      0\n",
              "101825      101922  Speedy oppose: Moving this page to the propose...      0\n",
              "10600        10613  \"\\n\\n A barnstar for you! \\n\\n  The Brilliant ...      0\n",
              "\n",
              "[79646 rows x 3 columns]"
            ],
            "text/html": [
              "\n",
              "  <div id=\"df-bffff26c-588b-43ef-b22d-3a58e9951bcd\" class=\"colab-df-container\">\n",
              "    <div>\n",
              "<style scoped>\n",
              "    .dataframe tbody tr th:only-of-type {\n",
              "        vertical-align: middle;\n",
              "    }\n",
              "\n",
              "    .dataframe tbody tr th {\n",
              "        vertical-align: top;\n",
              "    }\n",
              "\n",
              "    .dataframe thead th {\n",
              "        text-align: right;\n",
              "    }\n",
              "</style>\n",
              "<table border=\"1\" class=\"dataframe\">\n",
              "  <thead>\n",
              "    <tr style=\"text-align: right;\">\n",
              "      <th></th>\n",
              "      <th>Unnamed: 0</th>\n",
              "      <th>text</th>\n",
              "      <th>toxic</th>\n",
              "    </tr>\n",
              "  </thead>\n",
              "  <tbody>\n",
              "    <tr>\n",
              "      <th>31015</th>\n",
              "      <td>31055</td>\n",
              "      <td>Sometime back, I just happened to log on to ww...</td>\n",
              "      <td>0</td>\n",
              "    </tr>\n",
              "    <tr>\n",
              "      <th>102832</th>\n",
              "      <td>102929</td>\n",
              "      <td>\"\\n\\nThe latest edit is much better, don't mak...</td>\n",
              "      <td>0</td>\n",
              "    </tr>\n",
              "    <tr>\n",
              "      <th>67317</th>\n",
              "      <td>67385</td>\n",
              "      <td>\" October 2007 (UTC)\\n\\nI would think you'd be...</td>\n",
              "      <td>0</td>\n",
              "    </tr>\n",
              "    <tr>\n",
              "      <th>81091</th>\n",
              "      <td>81167</td>\n",
              "      <td>Thanks for the tip on the currency translation...</td>\n",
              "      <td>0</td>\n",
              "    </tr>\n",
              "    <tr>\n",
              "      <th>90091</th>\n",
              "      <td>90182</td>\n",
              "      <td>I would argue that if content on the Con in co...</td>\n",
              "      <td>0</td>\n",
              "    </tr>\n",
              "    <tr>\n",
              "      <th>...</th>\n",
              "      <td>...</td>\n",
              "      <td>...</td>\n",
              "      <td>...</td>\n",
              "    </tr>\n",
              "    <tr>\n",
              "      <th>1028</th>\n",
              "      <td>1028</td>\n",
              "      <td>less likeable messages here. Mark I know you a...</td>\n",
              "      <td>0</td>\n",
              "    </tr>\n",
              "    <tr>\n",
              "      <th>147303</th>\n",
              "      <td>147459</td>\n",
              "      <td>\"\\n\\n Nubsor \\n\\nHaving seen your heartfelt pl...</td>\n",
              "      <td>0</td>\n",
              "    </tr>\n",
              "    <tr>\n",
              "      <th>109563</th>\n",
              "      <td>109660</td>\n",
              "      <td>\"\\n\\nSligocki, before removing valuable explan...</td>\n",
              "      <td>0</td>\n",
              "    </tr>\n",
              "    <tr>\n",
              "      <th>101825</th>\n",
              "      <td>101922</td>\n",
              "      <td>Speedy oppose: Moving this page to the propose...</td>\n",
              "      <td>0</td>\n",
              "    </tr>\n",
              "    <tr>\n",
              "      <th>10600</th>\n",
              "      <td>10613</td>\n",
              "      <td>\"\\n\\n A barnstar for you! \\n\\n  The Brilliant ...</td>\n",
              "      <td>0</td>\n",
              "    </tr>\n",
              "  </tbody>\n",
              "</table>\n",
              "<p>79646 rows × 3 columns</p>\n",
              "</div>\n",
              "    <div class=\"colab-df-buttons\">\n",
              "\n",
              "  <div class=\"colab-df-container\">\n",
              "    <button class=\"colab-df-convert\" onclick=\"convertToInteractive('df-bffff26c-588b-43ef-b22d-3a58e9951bcd')\"\n",
              "            title=\"Convert this dataframe to an interactive table.\"\n",
              "            style=\"display:none;\">\n",
              "\n",
              "  <svg xmlns=\"http://www.w3.org/2000/svg\" height=\"24px\" viewBox=\"0 -960 960 960\">\n",
              "    <path d=\"M120-120v-720h720v720H120Zm60-500h600v-160H180v160Zm220 220h160v-160H400v160Zm0 220h160v-160H400v160ZM180-400h160v-160H180v160Zm440 0h160v-160H620v160ZM180-180h160v-160H180v160Zm440 0h160v-160H620v160Z\"/>\n",
              "  </svg>\n",
              "    </button>\n",
              "\n",
              "  <style>\n",
              "    .colab-df-container {\n",
              "      display:flex;\n",
              "      gap: 12px;\n",
              "    }\n",
              "\n",
              "    .colab-df-convert {\n",
              "      background-color: #E8F0FE;\n",
              "      border: none;\n",
              "      border-radius: 50%;\n",
              "      cursor: pointer;\n",
              "      display: none;\n",
              "      fill: #1967D2;\n",
              "      height: 32px;\n",
              "      padding: 0 0 0 0;\n",
              "      width: 32px;\n",
              "    }\n",
              "\n",
              "    .colab-df-convert:hover {\n",
              "      background-color: #E2EBFA;\n",
              "      box-shadow: 0px 1px 2px rgba(60, 64, 67, 0.3), 0px 1px 3px 1px rgba(60, 64, 67, 0.15);\n",
              "      fill: #174EA6;\n",
              "    }\n",
              "\n",
              "    .colab-df-buttons div {\n",
              "      margin-bottom: 4px;\n",
              "    }\n",
              "\n",
              "    [theme=dark] .colab-df-convert {\n",
              "      background-color: #3B4455;\n",
              "      fill: #D2E3FC;\n",
              "    }\n",
              "\n",
              "    [theme=dark] .colab-df-convert:hover {\n",
              "      background-color: #434B5C;\n",
              "      box-shadow: 0px 1px 3px 1px rgba(0, 0, 0, 0.15);\n",
              "      filter: drop-shadow(0px 1px 2px rgba(0, 0, 0, 0.3));\n",
              "      fill: #FFFFFF;\n",
              "    }\n",
              "  </style>\n",
              "\n",
              "    <script>\n",
              "      const buttonEl =\n",
              "        document.querySelector('#df-bffff26c-588b-43ef-b22d-3a58e9951bcd button.colab-df-convert');\n",
              "      buttonEl.style.display =\n",
              "        google.colab.kernel.accessAllowed ? 'block' : 'none';\n",
              "\n",
              "      async function convertToInteractive(key) {\n",
              "        const element = document.querySelector('#df-bffff26c-588b-43ef-b22d-3a58e9951bcd');\n",
              "        const dataTable =\n",
              "          await google.colab.kernel.invokeFunction('convertToInteractive',\n",
              "                                                    [key], {});\n",
              "        if (!dataTable) return;\n",
              "\n",
              "        const docLinkHtml = 'Like what you see? Visit the ' +\n",
              "          '<a target=\"_blank\" href=https://colab.research.google.com/notebooks/data_table.ipynb>data table notebook</a>'\n",
              "          + ' to learn more about interactive tables.';\n",
              "        element.innerHTML = '';\n",
              "        dataTable['output_type'] = 'display_data';\n",
              "        await google.colab.output.renderOutput(dataTable, element);\n",
              "        const docLink = document.createElement('div');\n",
              "        docLink.innerHTML = docLinkHtml;\n",
              "        element.appendChild(docLink);\n",
              "      }\n",
              "    </script>\n",
              "  </div>\n",
              "\n",
              "\n",
              "<div id=\"df-f2601f35-a5cc-4d99-b9b6-c8497243767f\">\n",
              "  <button class=\"colab-df-quickchart\" onclick=\"quickchart('df-f2601f35-a5cc-4d99-b9b6-c8497243767f')\"\n",
              "            title=\"Suggest charts\"\n",
              "            style=\"display:none;\">\n",
              "\n",
              "<svg xmlns=\"http://www.w3.org/2000/svg\" height=\"24px\"viewBox=\"0 0 24 24\"\n",
              "     width=\"24px\">\n",
              "    <g>\n",
              "        <path d=\"M19 3H5c-1.1 0-2 .9-2 2v14c0 1.1.9 2 2 2h14c1.1 0 2-.9 2-2V5c0-1.1-.9-2-2-2zM9 17H7v-7h2v7zm4 0h-2V7h2v10zm4 0h-2v-4h2v4z\"/>\n",
              "    </g>\n",
              "</svg>\n",
              "  </button>\n",
              "\n",
              "<style>\n",
              "  .colab-df-quickchart {\n",
              "      --bg-color: #E8F0FE;\n",
              "      --fill-color: #1967D2;\n",
              "      --hover-bg-color: #E2EBFA;\n",
              "      --hover-fill-color: #174EA6;\n",
              "      --disabled-fill-color: #AAA;\n",
              "      --disabled-bg-color: #DDD;\n",
              "  }\n",
              "\n",
              "  [theme=dark] .colab-df-quickchart {\n",
              "      --bg-color: #3B4455;\n",
              "      --fill-color: #D2E3FC;\n",
              "      --hover-bg-color: #434B5C;\n",
              "      --hover-fill-color: #FFFFFF;\n",
              "      --disabled-bg-color: #3B4455;\n",
              "      --disabled-fill-color: #666;\n",
              "  }\n",
              "\n",
              "  .colab-df-quickchart {\n",
              "    background-color: var(--bg-color);\n",
              "    border: none;\n",
              "    border-radius: 50%;\n",
              "    cursor: pointer;\n",
              "    display: none;\n",
              "    fill: var(--fill-color);\n",
              "    height: 32px;\n",
              "    padding: 0;\n",
              "    width: 32px;\n",
              "  }\n",
              "\n",
              "  .colab-df-quickchart:hover {\n",
              "    background-color: var(--hover-bg-color);\n",
              "    box-shadow: 0 1px 2px rgba(60, 64, 67, 0.3), 0 1px 3px 1px rgba(60, 64, 67, 0.15);\n",
              "    fill: var(--button-hover-fill-color);\n",
              "  }\n",
              "\n",
              "  .colab-df-quickchart-complete:disabled,\n",
              "  .colab-df-quickchart-complete:disabled:hover {\n",
              "    background-color: var(--disabled-bg-color);\n",
              "    fill: var(--disabled-fill-color);\n",
              "    box-shadow: none;\n",
              "  }\n",
              "\n",
              "  .colab-df-spinner {\n",
              "    border: 2px solid var(--fill-color);\n",
              "    border-color: transparent;\n",
              "    border-bottom-color: var(--fill-color);\n",
              "    animation:\n",
              "      spin 1s steps(1) infinite;\n",
              "  }\n",
              "\n",
              "  @keyframes spin {\n",
              "    0% {\n",
              "      border-color: transparent;\n",
              "      border-bottom-color: var(--fill-color);\n",
              "      border-left-color: var(--fill-color);\n",
              "    }\n",
              "    20% {\n",
              "      border-color: transparent;\n",
              "      border-left-color: var(--fill-color);\n",
              "      border-top-color: var(--fill-color);\n",
              "    }\n",
              "    30% {\n",
              "      border-color: transparent;\n",
              "      border-left-color: var(--fill-color);\n",
              "      border-top-color: var(--fill-color);\n",
              "      border-right-color: var(--fill-color);\n",
              "    }\n",
              "    40% {\n",
              "      border-color: transparent;\n",
              "      border-right-color: var(--fill-color);\n",
              "      border-top-color: var(--fill-color);\n",
              "    }\n",
              "    60% {\n",
              "      border-color: transparent;\n",
              "      border-right-color: var(--fill-color);\n",
              "    }\n",
              "    80% {\n",
              "      border-color: transparent;\n",
              "      border-right-color: var(--fill-color);\n",
              "      border-bottom-color: var(--fill-color);\n",
              "    }\n",
              "    90% {\n",
              "      border-color: transparent;\n",
              "      border-bottom-color: var(--fill-color);\n",
              "    }\n",
              "  }\n",
              "</style>\n",
              "\n",
              "  <script>\n",
              "    async function quickchart(key) {\n",
              "      const quickchartButtonEl =\n",
              "        document.querySelector('#' + key + ' button');\n",
              "      quickchartButtonEl.disabled = true;  // To prevent multiple clicks.\n",
              "      quickchartButtonEl.classList.add('colab-df-spinner');\n",
              "      try {\n",
              "        const charts = await google.colab.kernel.invokeFunction(\n",
              "            'suggestCharts', [key], {});\n",
              "      } catch (error) {\n",
              "        console.error('Error during call to suggestCharts:', error);\n",
              "      }\n",
              "      quickchartButtonEl.classList.remove('colab-df-spinner');\n",
              "      quickchartButtonEl.classList.add('colab-df-quickchart-complete');\n",
              "    }\n",
              "    (() => {\n",
              "      let quickchartButtonEl =\n",
              "        document.querySelector('#df-f2601f35-a5cc-4d99-b9b6-c8497243767f button');\n",
              "      quickchartButtonEl.style.display =\n",
              "        google.colab.kernel.accessAllowed ? 'block' : 'none';\n",
              "    })();\n",
              "  </script>\n",
              "</div>\n",
              "    </div>\n",
              "  </div>\n"
            ]
          },
          "metadata": {},
          "execution_count": 7
        }
      ],
      "source": [
        "file_path = '/content/sample_data/toxic_comments.csv'\n",
        "df = pd.read_csv(file_path)\n",
        "df = df.sample(frac=0.5, random_state=42)  # Случайный выбор 50% данных, это сделано для упрощения расчетов\n",
        "df"
      ]
    },
    {
      "cell_type": "code",
      "execution_count": 8,
      "metadata": {
        "colab": {
          "base_uri": "https://localhost:8080/"
        },
        "id": "43lKRPFnmb2q",
        "outputId": "d076462c-9cb6-40a5-b371-8ada85a1dff7"
      },
      "outputs": [
        {
          "output_type": "stream",
          "name": "stdout",
          "text": [
            "<class 'pandas.core.frame.DataFrame'>\n",
            "Int64Index: 79646 entries, 31015 to 10600\n",
            "Data columns (total 3 columns):\n",
            " #   Column      Non-Null Count  Dtype \n",
            "---  ------      --------------  ----- \n",
            " 0   Unnamed: 0  79646 non-null  int64 \n",
            " 1   text        79646 non-null  object\n",
            " 2   toxic       79646 non-null  int64 \n",
            "dtypes: int64(2), object(1)\n",
            "memory usage: 2.4+ MB\n"
          ]
        }
      ],
      "source": [
        "df.info()"
      ]
    },
    {
      "cell_type": "code",
      "source": [
        "nltk.download('punkt')"
      ],
      "metadata": {
        "colab": {
          "base_uri": "https://localhost:8080/"
        },
        "id": "9CsLH7Q9o574",
        "outputId": "8dd86266-953d-40a1-e269-c7ae0b472381"
      },
      "execution_count": 9,
      "outputs": [
        {
          "output_type": "stream",
          "name": "stderr",
          "text": [
            "[nltk_data] Downloading package punkt to /root/nltk_data...\n",
            "[nltk_data]   Package punkt is already up-to-date!\n"
          ]
        },
        {
          "output_type": "execute_result",
          "data": {
            "text/plain": [
              "True"
            ]
          },
          "metadata": {},
          "execution_count": 9
        }
      ]
    },
    {
      "cell_type": "markdown",
      "source": [
        "##Токенизация текста"
      ],
      "metadata": {
        "id": "0rlfPetwo8Ia"
      }
    },
    {
      "cell_type": "code",
      "source": [
        "# Функция для токенизации текста\n",
        "def tokenize_text(text):\n",
        "    return word_tokenize(text)\n",
        "\n",
        "# Применяем токенизацию ко всем текстам в датасете\n",
        "df['tokenized_text'] = df['text'].apply(tokenize_text)\n",
        "\n",
        "# Просмотрим результаты токенизации для первых нескольких записей\n",
        "df['tokenized_text'].head()"
      ],
      "metadata": {
        "colab": {
          "base_uri": "https://localhost:8080/"
        },
        "id": "53PPpfcXo_lz",
        "outputId": "c4630a4b-9bb9-4f05-8213-19ec54365a89"
      },
      "execution_count": 10,
      "outputs": [
        {
          "output_type": "execute_result",
          "data": {
            "text/plain": [
              "31015     [Sometime, back, ,, I, just, happened, to, log...\n",
              "102832    [``, The, latest, edit, is, much, better, ,, d...\n",
              "67317     [``, October, 2007, (, UTC, ), I, would, think...\n",
              "81091     [Thanks, for, the, tip, on, the, currency, tra...\n",
              "90091     [I, would, argue, that, if, content, on, the, ...\n",
              "Name: tokenized_text, dtype: object"
            ]
          },
          "metadata": {},
          "execution_count": 10
        }
      ]
    },
    {
      "cell_type": "code",
      "execution_count": 11,
      "metadata": {
        "colab": {
          "base_uri": "https://localhost:8080/",
          "height": 572
        },
        "id": "URm_WNc8mb2q",
        "outputId": "c719544b-e186-4398-ebeb-a271decd0fe8"
      },
      "outputs": [
        {
          "output_type": "execute_result",
          "data": {
            "text/plain": [
              "        Unnamed: 0                                               text  toxic  \\\n",
              "31015        31055  Sometime back, I just happened to log on to ww...      0   \n",
              "102832      102929  \"\\n\\nThe latest edit is much better, don't mak...      0   \n",
              "67317        67385  \" October 2007 (UTC)\\n\\nI would think you'd be...      0   \n",
              "81091        81167  Thanks for the tip on the currency translation...      0   \n",
              "90091        90182  I would argue that if content on the Con in co...      0   \n",
              "1860          1860  \"=Reliable sources===\\nCheating:\\n\"\"Barry Bond...      1   \n",
              "125293      125422  WTF=\\n\\nHow The Fuck Does This Person Merit A ...      1   \n",
              "148986      149142  cajuns, acadians\\nCajuns, acadians, louisianan...      0   \n",
              "89697        89784  Hi - I dropped a pin in Google Maps at the cer...      0   \n",
              "64256        64323  Re removal of accessdate= for urls books \\n\\nT...      0   \n",
              "40199        40249  claims here that  you  ar his brother and that...      0   \n",
              "104543      104640  ATTENTION!\\n\\nI think you misunderstand us kiw...      0   \n",
              "41557        41607  === Who are you and what makes you the end all...      0   \n",
              "84920        85001  Lake Abert\\nHi Orygun, I've posted a query on ...      0   \n",
              "66244        66311  \"\\n\\n /* Is she black? */  \\n\\nwhy dose it mat...      0   \n",
              "\n",
              "                                           tokenized_text  \n",
              "31015   [Sometime, back, ,, I, just, happened, to, log...  \n",
              "102832  [``, The, latest, edit, is, much, better, ,, d...  \n",
              "67317   [``, October, 2007, (, UTC, ), I, would, think...  \n",
              "81091   [Thanks, for, the, tip, on, the, currency, tra...  \n",
              "90091   [I, would, argue, that, if, content, on, the, ...  \n",
              "1860    [``, =Reliable, sources===, Cheating, :, '', '...  \n",
              "125293  [WTF=, How, The, Fuck, Does, This, Person, Mer...  \n",
              "148986  [cajuns, ,, acadians, Cajuns, ,, acadians, ,, ...  \n",
              "89697   [Hi, -, I, dropped, a, pin, in, Google, Maps, ...  \n",
              "64256   [Re, removal, of, accessdate=, for, urls, book...  \n",
              "40199   [claims, here, that, you, ar, his, brother, an...  \n",
              "104543  [ATTENTION, !, I, think, you, misunderstand, u...  \n",
              "41557   [===, Who, are, you, and, what, makes, you, th...  \n",
              "84920   [Lake, Abert, Hi, Orygun, ,, I, 've, posted, a...  \n",
              "66244   [``, /, *, Is, she, black, ?, *, /, why, dose,...  "
            ],
            "text/html": [
              "\n",
              "  <div id=\"df-9b382067-4ef1-494f-bef8-665ecce5d355\" class=\"colab-df-container\">\n",
              "    <div>\n",
              "<style scoped>\n",
              "    .dataframe tbody tr th:only-of-type {\n",
              "        vertical-align: middle;\n",
              "    }\n",
              "\n",
              "    .dataframe tbody tr th {\n",
              "        vertical-align: top;\n",
              "    }\n",
              "\n",
              "    .dataframe thead th {\n",
              "        text-align: right;\n",
              "    }\n",
              "</style>\n",
              "<table border=\"1\" class=\"dataframe\">\n",
              "  <thead>\n",
              "    <tr style=\"text-align: right;\">\n",
              "      <th></th>\n",
              "      <th>Unnamed: 0</th>\n",
              "      <th>text</th>\n",
              "      <th>toxic</th>\n",
              "      <th>tokenized_text</th>\n",
              "    </tr>\n",
              "  </thead>\n",
              "  <tbody>\n",
              "    <tr>\n",
              "      <th>31015</th>\n",
              "      <td>31055</td>\n",
              "      <td>Sometime back, I just happened to log on to ww...</td>\n",
              "      <td>0</td>\n",
              "      <td>[Sometime, back, ,, I, just, happened, to, log...</td>\n",
              "    </tr>\n",
              "    <tr>\n",
              "      <th>102832</th>\n",
              "      <td>102929</td>\n",
              "      <td>\"\\n\\nThe latest edit is much better, don't mak...</td>\n",
              "      <td>0</td>\n",
              "      <td>[``, The, latest, edit, is, much, better, ,, d...</td>\n",
              "    </tr>\n",
              "    <tr>\n",
              "      <th>67317</th>\n",
              "      <td>67385</td>\n",
              "      <td>\" October 2007 (UTC)\\n\\nI would think you'd be...</td>\n",
              "      <td>0</td>\n",
              "      <td>[``, October, 2007, (, UTC, ), I, would, think...</td>\n",
              "    </tr>\n",
              "    <tr>\n",
              "      <th>81091</th>\n",
              "      <td>81167</td>\n",
              "      <td>Thanks for the tip on the currency translation...</td>\n",
              "      <td>0</td>\n",
              "      <td>[Thanks, for, the, tip, on, the, currency, tra...</td>\n",
              "    </tr>\n",
              "    <tr>\n",
              "      <th>90091</th>\n",
              "      <td>90182</td>\n",
              "      <td>I would argue that if content on the Con in co...</td>\n",
              "      <td>0</td>\n",
              "      <td>[I, would, argue, that, if, content, on, the, ...</td>\n",
              "    </tr>\n",
              "    <tr>\n",
              "      <th>1860</th>\n",
              "      <td>1860</td>\n",
              "      <td>\"=Reliable sources===\\nCheating:\\n\"\"Barry Bond...</td>\n",
              "      <td>1</td>\n",
              "      <td>[``, =Reliable, sources===, Cheating, :, '', '...</td>\n",
              "    </tr>\n",
              "    <tr>\n",
              "      <th>125293</th>\n",
              "      <td>125422</td>\n",
              "      <td>WTF=\\n\\nHow The Fuck Does This Person Merit A ...</td>\n",
              "      <td>1</td>\n",
              "      <td>[WTF=, How, The, Fuck, Does, This, Person, Mer...</td>\n",
              "    </tr>\n",
              "    <tr>\n",
              "      <th>148986</th>\n",
              "      <td>149142</td>\n",
              "      <td>cajuns, acadians\\nCajuns, acadians, louisianan...</td>\n",
              "      <td>0</td>\n",
              "      <td>[cajuns, ,, acadians, Cajuns, ,, acadians, ,, ...</td>\n",
              "    </tr>\n",
              "    <tr>\n",
              "      <th>89697</th>\n",
              "      <td>89784</td>\n",
              "      <td>Hi - I dropped a pin in Google Maps at the cer...</td>\n",
              "      <td>0</td>\n",
              "      <td>[Hi, -, I, dropped, a, pin, in, Google, Maps, ...</td>\n",
              "    </tr>\n",
              "    <tr>\n",
              "      <th>64256</th>\n",
              "      <td>64323</td>\n",
              "      <td>Re removal of accessdate= for urls books \\n\\nT...</td>\n",
              "      <td>0</td>\n",
              "      <td>[Re, removal, of, accessdate=, for, urls, book...</td>\n",
              "    </tr>\n",
              "    <tr>\n",
              "      <th>40199</th>\n",
              "      <td>40249</td>\n",
              "      <td>claims here that  you  ar his brother and that...</td>\n",
              "      <td>0</td>\n",
              "      <td>[claims, here, that, you, ar, his, brother, an...</td>\n",
              "    </tr>\n",
              "    <tr>\n",
              "      <th>104543</th>\n",
              "      <td>104640</td>\n",
              "      <td>ATTENTION!\\n\\nI think you misunderstand us kiw...</td>\n",
              "      <td>0</td>\n",
              "      <td>[ATTENTION, !, I, think, you, misunderstand, u...</td>\n",
              "    </tr>\n",
              "    <tr>\n",
              "      <th>41557</th>\n",
              "      <td>41607</td>\n",
              "      <td>=== Who are you and what makes you the end all...</td>\n",
              "      <td>0</td>\n",
              "      <td>[===, Who, are, you, and, what, makes, you, th...</td>\n",
              "    </tr>\n",
              "    <tr>\n",
              "      <th>84920</th>\n",
              "      <td>85001</td>\n",
              "      <td>Lake Abert\\nHi Orygun, I've posted a query on ...</td>\n",
              "      <td>0</td>\n",
              "      <td>[Lake, Abert, Hi, Orygun, ,, I, 've, posted, a...</td>\n",
              "    </tr>\n",
              "    <tr>\n",
              "      <th>66244</th>\n",
              "      <td>66311</td>\n",
              "      <td>\"\\n\\n /* Is she black? */  \\n\\nwhy dose it mat...</td>\n",
              "      <td>0</td>\n",
              "      <td>[``, /, *, Is, she, black, ?, *, /, why, dose,...</td>\n",
              "    </tr>\n",
              "  </tbody>\n",
              "</table>\n",
              "</div>\n",
              "    <div class=\"colab-df-buttons\">\n",
              "\n",
              "  <div class=\"colab-df-container\">\n",
              "    <button class=\"colab-df-convert\" onclick=\"convertToInteractive('df-9b382067-4ef1-494f-bef8-665ecce5d355')\"\n",
              "            title=\"Convert this dataframe to an interactive table.\"\n",
              "            style=\"display:none;\">\n",
              "\n",
              "  <svg xmlns=\"http://www.w3.org/2000/svg\" height=\"24px\" viewBox=\"0 -960 960 960\">\n",
              "    <path d=\"M120-120v-720h720v720H120Zm60-500h600v-160H180v160Zm220 220h160v-160H400v160Zm0 220h160v-160H400v160ZM180-400h160v-160H180v160Zm440 0h160v-160H620v160ZM180-180h160v-160H180v160Zm440 0h160v-160H620v160Z\"/>\n",
              "  </svg>\n",
              "    </button>\n",
              "\n",
              "  <style>\n",
              "    .colab-df-container {\n",
              "      display:flex;\n",
              "      gap: 12px;\n",
              "    }\n",
              "\n",
              "    .colab-df-convert {\n",
              "      background-color: #E8F0FE;\n",
              "      border: none;\n",
              "      border-radius: 50%;\n",
              "      cursor: pointer;\n",
              "      display: none;\n",
              "      fill: #1967D2;\n",
              "      height: 32px;\n",
              "      padding: 0 0 0 0;\n",
              "      width: 32px;\n",
              "    }\n",
              "\n",
              "    .colab-df-convert:hover {\n",
              "      background-color: #E2EBFA;\n",
              "      box-shadow: 0px 1px 2px rgba(60, 64, 67, 0.3), 0px 1px 3px 1px rgba(60, 64, 67, 0.15);\n",
              "      fill: #174EA6;\n",
              "    }\n",
              "\n",
              "    .colab-df-buttons div {\n",
              "      margin-bottom: 4px;\n",
              "    }\n",
              "\n",
              "    [theme=dark] .colab-df-convert {\n",
              "      background-color: #3B4455;\n",
              "      fill: #D2E3FC;\n",
              "    }\n",
              "\n",
              "    [theme=dark] .colab-df-convert:hover {\n",
              "      background-color: #434B5C;\n",
              "      box-shadow: 0px 1px 3px 1px rgba(0, 0, 0, 0.15);\n",
              "      filter: drop-shadow(0px 1px 2px rgba(0, 0, 0, 0.3));\n",
              "      fill: #FFFFFF;\n",
              "    }\n",
              "  </style>\n",
              "\n",
              "    <script>\n",
              "      const buttonEl =\n",
              "        document.querySelector('#df-9b382067-4ef1-494f-bef8-665ecce5d355 button.colab-df-convert');\n",
              "      buttonEl.style.display =\n",
              "        google.colab.kernel.accessAllowed ? 'block' : 'none';\n",
              "\n",
              "      async function convertToInteractive(key) {\n",
              "        const element = document.querySelector('#df-9b382067-4ef1-494f-bef8-665ecce5d355');\n",
              "        const dataTable =\n",
              "          await google.colab.kernel.invokeFunction('convertToInteractive',\n",
              "                                                    [key], {});\n",
              "        if (!dataTable) return;\n",
              "\n",
              "        const docLinkHtml = 'Like what you see? Visit the ' +\n",
              "          '<a target=\"_blank\" href=https://colab.research.google.com/notebooks/data_table.ipynb>data table notebook</a>'\n",
              "          + ' to learn more about interactive tables.';\n",
              "        element.innerHTML = '';\n",
              "        dataTable['output_type'] = 'display_data';\n",
              "        await google.colab.output.renderOutput(dataTable, element);\n",
              "        const docLink = document.createElement('div');\n",
              "        docLink.innerHTML = docLinkHtml;\n",
              "        element.appendChild(docLink);\n",
              "      }\n",
              "    </script>\n",
              "  </div>\n",
              "\n",
              "\n",
              "<div id=\"df-03150325-8b16-41f7-9c63-89516f20030b\">\n",
              "  <button class=\"colab-df-quickchart\" onclick=\"quickchart('df-03150325-8b16-41f7-9c63-89516f20030b')\"\n",
              "            title=\"Suggest charts\"\n",
              "            style=\"display:none;\">\n",
              "\n",
              "<svg xmlns=\"http://www.w3.org/2000/svg\" height=\"24px\"viewBox=\"0 0 24 24\"\n",
              "     width=\"24px\">\n",
              "    <g>\n",
              "        <path d=\"M19 3H5c-1.1 0-2 .9-2 2v14c0 1.1.9 2 2 2h14c1.1 0 2-.9 2-2V5c0-1.1-.9-2-2-2zM9 17H7v-7h2v7zm4 0h-2V7h2v10zm4 0h-2v-4h2v4z\"/>\n",
              "    </g>\n",
              "</svg>\n",
              "  </button>\n",
              "\n",
              "<style>\n",
              "  .colab-df-quickchart {\n",
              "      --bg-color: #E8F0FE;\n",
              "      --fill-color: #1967D2;\n",
              "      --hover-bg-color: #E2EBFA;\n",
              "      --hover-fill-color: #174EA6;\n",
              "      --disabled-fill-color: #AAA;\n",
              "      --disabled-bg-color: #DDD;\n",
              "  }\n",
              "\n",
              "  [theme=dark] .colab-df-quickchart {\n",
              "      --bg-color: #3B4455;\n",
              "      --fill-color: #D2E3FC;\n",
              "      --hover-bg-color: #434B5C;\n",
              "      --hover-fill-color: #FFFFFF;\n",
              "      --disabled-bg-color: #3B4455;\n",
              "      --disabled-fill-color: #666;\n",
              "  }\n",
              "\n",
              "  .colab-df-quickchart {\n",
              "    background-color: var(--bg-color);\n",
              "    border: none;\n",
              "    border-radius: 50%;\n",
              "    cursor: pointer;\n",
              "    display: none;\n",
              "    fill: var(--fill-color);\n",
              "    height: 32px;\n",
              "    padding: 0;\n",
              "    width: 32px;\n",
              "  }\n",
              "\n",
              "  .colab-df-quickchart:hover {\n",
              "    background-color: var(--hover-bg-color);\n",
              "    box-shadow: 0 1px 2px rgba(60, 64, 67, 0.3), 0 1px 3px 1px rgba(60, 64, 67, 0.15);\n",
              "    fill: var(--button-hover-fill-color);\n",
              "  }\n",
              "\n",
              "  .colab-df-quickchart-complete:disabled,\n",
              "  .colab-df-quickchart-complete:disabled:hover {\n",
              "    background-color: var(--disabled-bg-color);\n",
              "    fill: var(--disabled-fill-color);\n",
              "    box-shadow: none;\n",
              "  }\n",
              "\n",
              "  .colab-df-spinner {\n",
              "    border: 2px solid var(--fill-color);\n",
              "    border-color: transparent;\n",
              "    border-bottom-color: var(--fill-color);\n",
              "    animation:\n",
              "      spin 1s steps(1) infinite;\n",
              "  }\n",
              "\n",
              "  @keyframes spin {\n",
              "    0% {\n",
              "      border-color: transparent;\n",
              "      border-bottom-color: var(--fill-color);\n",
              "      border-left-color: var(--fill-color);\n",
              "    }\n",
              "    20% {\n",
              "      border-color: transparent;\n",
              "      border-left-color: var(--fill-color);\n",
              "      border-top-color: var(--fill-color);\n",
              "    }\n",
              "    30% {\n",
              "      border-color: transparent;\n",
              "      border-left-color: var(--fill-color);\n",
              "      border-top-color: var(--fill-color);\n",
              "      border-right-color: var(--fill-color);\n",
              "    }\n",
              "    40% {\n",
              "      border-color: transparent;\n",
              "      border-right-color: var(--fill-color);\n",
              "      border-top-color: var(--fill-color);\n",
              "    }\n",
              "    60% {\n",
              "      border-color: transparent;\n",
              "      border-right-color: var(--fill-color);\n",
              "    }\n",
              "    80% {\n",
              "      border-color: transparent;\n",
              "      border-right-color: var(--fill-color);\n",
              "      border-bottom-color: var(--fill-color);\n",
              "    }\n",
              "    90% {\n",
              "      border-color: transparent;\n",
              "      border-bottom-color: var(--fill-color);\n",
              "    }\n",
              "  }\n",
              "</style>\n",
              "\n",
              "  <script>\n",
              "    async function quickchart(key) {\n",
              "      const quickchartButtonEl =\n",
              "        document.querySelector('#' + key + ' button');\n",
              "      quickchartButtonEl.disabled = true;  // To prevent multiple clicks.\n",
              "      quickchartButtonEl.classList.add('colab-df-spinner');\n",
              "      try {\n",
              "        const charts = await google.colab.kernel.invokeFunction(\n",
              "            'suggestCharts', [key], {});\n",
              "      } catch (error) {\n",
              "        console.error('Error during call to suggestCharts:', error);\n",
              "      }\n",
              "      quickchartButtonEl.classList.remove('colab-df-spinner');\n",
              "      quickchartButtonEl.classList.add('colab-df-quickchart-complete');\n",
              "    }\n",
              "    (() => {\n",
              "      let quickchartButtonEl =\n",
              "        document.querySelector('#df-03150325-8b16-41f7-9c63-89516f20030b button');\n",
              "      quickchartButtonEl.style.display =\n",
              "        google.colab.kernel.accessAllowed ? 'block' : 'none';\n",
              "    })();\n",
              "  </script>\n",
              "</div>\n",
              "    </div>\n",
              "  </div>\n"
            ]
          },
          "metadata": {},
          "execution_count": 11
        }
      ],
      "source": [
        "df.head(15)"
      ]
    },
    {
      "cell_type": "markdown",
      "metadata": {
        "id": "2TdPzD8-mb2t"
      },
      "source": [
        "## Удаление стоп слов"
      ]
    },
    {
      "cell_type": "code",
      "source": [
        "nltk.download('stopwords')"
      ],
      "metadata": {
        "colab": {
          "base_uri": "https://localhost:8080/"
        },
        "id": "ZiIwU4IWssU2",
        "outputId": "80b94778-9ab2-41b7-bf34-eaa044a892aa"
      },
      "execution_count": 12,
      "outputs": [
        {
          "output_type": "stream",
          "name": "stderr",
          "text": [
            "[nltk_data] Downloading package stopwords to /root/nltk_data...\n",
            "[nltk_data]   Package stopwords is already up-to-date!\n"
          ]
        },
        {
          "output_type": "execute_result",
          "data": {
            "text/plain": [
              "True"
            ]
          },
          "metadata": {},
          "execution_count": 12
        }
      ]
    },
    {
      "cell_type": "code",
      "source": [
        "# Получаем список английских стоп-слов\n",
        "stop_words = set(stopwords.words('english'))\n",
        "stop_words"
      ],
      "metadata": {
        "colab": {
          "base_uri": "https://localhost:8080/"
        },
        "id": "vkIk0aZMs0yz",
        "outputId": "6aee5e0f-e87a-413a-b528-334f4de90b3b"
      },
      "execution_count": 13,
      "outputs": [
        {
          "output_type": "execute_result",
          "data": {
            "text/plain": [
              "{'a',\n",
              " 'about',\n",
              " 'above',\n",
              " 'after',\n",
              " 'again',\n",
              " 'against',\n",
              " 'ain',\n",
              " 'all',\n",
              " 'am',\n",
              " 'an',\n",
              " 'and',\n",
              " 'any',\n",
              " 'are',\n",
              " 'aren',\n",
              " \"aren't\",\n",
              " 'as',\n",
              " 'at',\n",
              " 'be',\n",
              " 'because',\n",
              " 'been',\n",
              " 'before',\n",
              " 'being',\n",
              " 'below',\n",
              " 'between',\n",
              " 'both',\n",
              " 'but',\n",
              " 'by',\n",
              " 'can',\n",
              " 'couldn',\n",
              " \"couldn't\",\n",
              " 'd',\n",
              " 'did',\n",
              " 'didn',\n",
              " \"didn't\",\n",
              " 'do',\n",
              " 'does',\n",
              " 'doesn',\n",
              " \"doesn't\",\n",
              " 'doing',\n",
              " 'don',\n",
              " \"don't\",\n",
              " 'down',\n",
              " 'during',\n",
              " 'each',\n",
              " 'few',\n",
              " 'for',\n",
              " 'from',\n",
              " 'further',\n",
              " 'had',\n",
              " 'hadn',\n",
              " \"hadn't\",\n",
              " 'has',\n",
              " 'hasn',\n",
              " \"hasn't\",\n",
              " 'have',\n",
              " 'haven',\n",
              " \"haven't\",\n",
              " 'having',\n",
              " 'he',\n",
              " 'her',\n",
              " 'here',\n",
              " 'hers',\n",
              " 'herself',\n",
              " 'him',\n",
              " 'himself',\n",
              " 'his',\n",
              " 'how',\n",
              " 'i',\n",
              " 'if',\n",
              " 'in',\n",
              " 'into',\n",
              " 'is',\n",
              " 'isn',\n",
              " \"isn't\",\n",
              " 'it',\n",
              " \"it's\",\n",
              " 'its',\n",
              " 'itself',\n",
              " 'just',\n",
              " 'll',\n",
              " 'm',\n",
              " 'ma',\n",
              " 'me',\n",
              " 'mightn',\n",
              " \"mightn't\",\n",
              " 'more',\n",
              " 'most',\n",
              " 'mustn',\n",
              " \"mustn't\",\n",
              " 'my',\n",
              " 'myself',\n",
              " 'needn',\n",
              " \"needn't\",\n",
              " 'no',\n",
              " 'nor',\n",
              " 'not',\n",
              " 'now',\n",
              " 'o',\n",
              " 'of',\n",
              " 'off',\n",
              " 'on',\n",
              " 'once',\n",
              " 'only',\n",
              " 'or',\n",
              " 'other',\n",
              " 'our',\n",
              " 'ours',\n",
              " 'ourselves',\n",
              " 'out',\n",
              " 'over',\n",
              " 'own',\n",
              " 're',\n",
              " 's',\n",
              " 'same',\n",
              " 'shan',\n",
              " \"shan't\",\n",
              " 'she',\n",
              " \"she's\",\n",
              " 'should',\n",
              " \"should've\",\n",
              " 'shouldn',\n",
              " \"shouldn't\",\n",
              " 'so',\n",
              " 'some',\n",
              " 'such',\n",
              " 't',\n",
              " 'than',\n",
              " 'that',\n",
              " \"that'll\",\n",
              " 'the',\n",
              " 'their',\n",
              " 'theirs',\n",
              " 'them',\n",
              " 'themselves',\n",
              " 'then',\n",
              " 'there',\n",
              " 'these',\n",
              " 'they',\n",
              " 'this',\n",
              " 'those',\n",
              " 'through',\n",
              " 'to',\n",
              " 'too',\n",
              " 'under',\n",
              " 'until',\n",
              " 'up',\n",
              " 've',\n",
              " 'very',\n",
              " 'was',\n",
              " 'wasn',\n",
              " \"wasn't\",\n",
              " 'we',\n",
              " 'were',\n",
              " 'weren',\n",
              " \"weren't\",\n",
              " 'what',\n",
              " 'when',\n",
              " 'where',\n",
              " 'which',\n",
              " 'while',\n",
              " 'who',\n",
              " 'whom',\n",
              " 'why',\n",
              " 'will',\n",
              " 'with',\n",
              " 'won',\n",
              " \"won't\",\n",
              " 'wouldn',\n",
              " \"wouldn't\",\n",
              " 'y',\n",
              " 'you',\n",
              " \"you'd\",\n",
              " \"you'll\",\n",
              " \"you're\",\n",
              " \"you've\",\n",
              " 'your',\n",
              " 'yours',\n",
              " 'yourself',\n",
              " 'yourselves'}"
            ]
          },
          "metadata": {},
          "execution_count": 13
        }
      ]
    },
    {
      "cell_type": "code",
      "execution_count": 14,
      "metadata": {
        "colab": {
          "base_uri": "https://localhost:8080/"
        },
        "id": "7lo6doP9mb2t",
        "outputId": "02e140d9-d82e-419a-a648-d09e45cb8792"
      },
      "outputs": [
        {
          "output_type": "execute_result",
          "data": {
            "text/plain": [
              "31015     [Sometime, back, ,, happened, log, www.izoom.i...\n",
              "102832    [``, latest, edit, much, better, ,, n't, make,...\n",
              "67317     [``, October, 2007, (, UTC, ), would, think, '...\n",
              "81091     [Thanks, tip, currency, translation, ., Think,...\n",
              "90091     [would, argue, content, Con, comparison, Arts,...\n",
              "Name: text_without_stopwords, dtype: object"
            ]
          },
          "metadata": {},
          "execution_count": 14
        }
      ],
      "source": [
        "# Функция для удаления стоп-слов из токенизированного текста\n",
        "def remove_stop_words(tokens):\n",
        "    return [word for word in tokens if word.lower() not in stop_words]\n",
        "\n",
        "# Удаляем стоп-слова из каждого токенизированного текста\n",
        "df['text_without_stopwords'] = df['tokenized_text'].apply(remove_stop_words)\n",
        "\n",
        "# Просмотрим результаты для первых нескольких записей\n",
        "df['text_without_stopwords'].head()"
      ]
    },
    {
      "cell_type": "markdown",
      "source": [
        "## Лемматизация"
      ],
      "metadata": {
        "id": "9sRcpj_qt7c4"
      }
    },
    {
      "cell_type": "code",
      "source": [
        "# Убедитесь, что у вас загружены необходимые ресурсы NLTK\n",
        "nltk.download('wordnet')\n",
        "nltk.download('averaged_perceptron_tagger')"
      ],
      "metadata": {
        "colab": {
          "base_uri": "https://localhost:8080/"
        },
        "id": "JlILqnAYtr97",
        "outputId": "99171689-7f99-4f81-eedd-6153ab141e91"
      },
      "execution_count": 15,
      "outputs": [
        {
          "output_type": "stream",
          "name": "stderr",
          "text": [
            "[nltk_data] Downloading package wordnet to /root/nltk_data...\n",
            "[nltk_data]   Package wordnet is already up-to-date!\n",
            "[nltk_data] Downloading package averaged_perceptron_tagger to\n",
            "[nltk_data]     /root/nltk_data...\n",
            "[nltk_data]   Package averaged_perceptron_tagger is already up-to-\n",
            "[nltk_data]       date!\n"
          ]
        },
        {
          "output_type": "execute_result",
          "data": {
            "text/plain": [
              "True"
            ]
          },
          "metadata": {},
          "execution_count": 15
        }
      ]
    },
    {
      "cell_type": "code",
      "source": [
        "# Инициализируем лемматизатор\n",
        "lemmatizer = WordNetLemmatizer()\n",
        "\n",
        "# Кэш для POS-тегов\n",
        "pos_cache = {}\n",
        "\n",
        "# Функция для определения части речи слова\n",
        "def get_wordnet_pos(word):\n",
        "    if word in pos_cache:\n",
        "        return pos_cache[word]\n",
        "\n",
        "    tag = pos_tag([word])[0][1][0].upper()\n",
        "    tag_dict = {\"J\": wordnet.ADJ,\n",
        "                \"N\": wordnet.NOUN,\n",
        "                \"V\": wordnet.VERB,\n",
        "                \"R\": wordnet.ADV}\n",
        "\n",
        "    pos_cache[word] = tag_dict.get(tag, wordnet.NOUN)\n",
        "    return pos_cache[word]\n",
        "\n",
        "# Функция для лемматизации текста\n",
        "def lemmatize_text(tokens):\n",
        "    return [lemmatizer.lemmatize(word, get_wordnet_pos(word)) for word in tokens]\n",
        "\n",
        "# Применяем лемматизацию к каждому тексту\n",
        "df['lemmatized_text'] = df['text_without_stopwords'].apply(lemmatize_text)\n",
        "\n",
        "# Просмотрим результаты для первых нескольких записей\n",
        "df['lemmatized_text'].head()"
      ],
      "metadata": {
        "colab": {
          "base_uri": "https://localhost:8080/"
        },
        "id": "gmtBf72fxRTc",
        "outputId": "3ea4c250-d7c7-49fc-a928-3da9defeb55d"
      },
      "execution_count": 16,
      "outputs": [
        {
          "output_type": "execute_result",
          "data": {
            "text/plain": [
              "31015     [Sometime, back, ,, happen, log, www.izoom.in,...\n",
              "102832    [``, late, edit, much, well, ,, n't, make, art...\n",
              "67317     [``, October, 2007, (, UTC, ), would, think, '...\n",
              "81091     [Thanks, tip, currency, translation, ., Think,...\n",
              "90091     [would, argue, content, Con, comparison, Arts,...\n",
              "Name: lemmatized_text, dtype: object"
            ]
          },
          "metadata": {},
          "execution_count": 16
        }
      ]
    },
    {
      "cell_type": "markdown",
      "source": [
        "## Векторизация"
      ],
      "metadata": {
        "id": "XerWKimPy-vZ"
      }
    },
    {
      "cell_type": "code",
      "source": [
        "from sklearn.feature_extraction.text import TfidfVectorizer\n",
        "import gc\n",
        "\n",
        "# Объединяем лемматизированные слова обратно в строки\n",
        "df['lemmatized_text_joined'] = df['lemmatized_text'].apply(' '.join)\n",
        "\n",
        "# Инициализируем векторизатор TF-IDF с ограничением максимального количества признаков\n",
        "vectorizer = TfidfVectorizer(max_features=10000)  # Пример: ограничиваем словарь 10,000 словами\n",
        "\n",
        "# Применяем векторизатор к лемматизированным текстам\n",
        "tfidf_matrix = vectorizer.fit_transform(df['lemmatized_text_joined'])\n",
        "\n",
        "# Освобождаем память\n",
        "del df['lemmatized_text_joined']\n",
        "gc.collect()\n",
        "\n",
        "# tfidf_matrix является разреженной матрицей\n",
        "# Для просмотра результатов векторизации можно преобразовать её в DataFrame\n",
        "tfidf_df = pd.DataFrame(tfidf_matrix.toarray(), columns=vectorizer.get_feature_names_out())\n",
        "\n",
        "# Просмотрим первые несколько строк полученной матрицы\n",
        "tfidf_df.head()\n"
      ],
      "metadata": {
        "colab": {
          "base_uri": "https://localhost:8080/",
          "height": 255
        },
        "id": "mCHWw-4ktr4b",
        "outputId": "a22f26be-4899-46c3-8f1f-8993e575e60c"
      },
      "execution_count": 17,
      "outputs": [
        {
          "output_type": "execute_result",
          "data": {
            "text/plain": [
              "    00  000  000000   01   02   03   04   05   06        07  ...  zionist  \\\n",
              "0  0.0  0.0     0.0  0.0  0.0  0.0  0.0  0.0  0.0  0.000000  ...      0.0   \n",
              "1  0.0  0.0     0.0  0.0  0.0  0.0  0.0  0.0  0.0  0.000000  ...      0.0   \n",
              "2  0.0  0.0     0.0  0.0  0.0  0.0  0.0  0.0  0.0  0.213064  ...      0.0   \n",
              "3  0.0  0.0     0.0  0.0  0.0  0.0  0.0  0.0  0.0  0.000000  ...      0.0   \n",
              "4  0.0  0.0     0.0  0.0  0.0  0.0  0.0  0.0  0.0  0.000000  ...      0.0   \n",
              "\n",
              "   zionists  zoe  zombie  zone  zoo  zoom  zora  zuck  \\\n",
              "0       0.0  0.0     0.0   0.0  0.0   0.0   0.0   0.0   \n",
              "1       0.0  0.0     0.0   0.0  0.0   0.0   0.0   0.0   \n",
              "2       0.0  0.0     0.0   0.0  0.0   0.0   0.0   0.0   \n",
              "3       0.0  0.0     0.0   0.0  0.0   0.0   0.0   0.0   \n",
              "4       0.0  0.0     0.0   0.0  0.0   0.0   0.0   0.0   \n",
              "\n",
              "   zzzzzzzzzzzzzzzzzzzzzzzzzzzzzzzzzzzzzzzzzzzzzzzzzzzzzzzzzzzzzzzzzzzzzzzzzzzzzzzzzzzzzzzzzzzzzzzzzzzzzzzzzzzzzzzzzzzzzzzzzzzzzzzzzzzzzzzzzzzzzzzzzzzzzz  \n",
              "0                                                0.0                                                                                                       \n",
              "1                                                0.0                                                                                                       \n",
              "2                                                0.0                                                                                                       \n",
              "3                                                0.0                                                                                                       \n",
              "4                                                0.0                                                                                                       \n",
              "\n",
              "[5 rows x 10000 columns]"
            ],
            "text/html": [
              "\n",
              "  <div id=\"df-1104e850-d1ec-4c94-873b-45dfd0f26c07\" class=\"colab-df-container\">\n",
              "    <div>\n",
              "<style scoped>\n",
              "    .dataframe tbody tr th:only-of-type {\n",
              "        vertical-align: middle;\n",
              "    }\n",
              "\n",
              "    .dataframe tbody tr th {\n",
              "        vertical-align: top;\n",
              "    }\n",
              "\n",
              "    .dataframe thead th {\n",
              "        text-align: right;\n",
              "    }\n",
              "</style>\n",
              "<table border=\"1\" class=\"dataframe\">\n",
              "  <thead>\n",
              "    <tr style=\"text-align: right;\">\n",
              "      <th></th>\n",
              "      <th>00</th>\n",
              "      <th>000</th>\n",
              "      <th>000000</th>\n",
              "      <th>01</th>\n",
              "      <th>02</th>\n",
              "      <th>03</th>\n",
              "      <th>04</th>\n",
              "      <th>05</th>\n",
              "      <th>06</th>\n",
              "      <th>07</th>\n",
              "      <th>...</th>\n",
              "      <th>zionist</th>\n",
              "      <th>zionists</th>\n",
              "      <th>zoe</th>\n",
              "      <th>zombie</th>\n",
              "      <th>zone</th>\n",
              "      <th>zoo</th>\n",
              "      <th>zoom</th>\n",
              "      <th>zora</th>\n",
              "      <th>zuck</th>\n",
              "      <th>zzzzzzzzzzzzzzzzzzzzzzzzzzzzzzzzzzzzzzzzzzzzzzzzzzzzzzzzzzzzzzzzzzzzzzzzzzzzzzzzzzzzzzzzzzzzzzzzzzzzzzzzzzzzzzzzzzzzzzzzzzzzzzzzzzzzzzzzzzzzzzzzzzzzzz</th>\n",
              "    </tr>\n",
              "  </thead>\n",
              "  <tbody>\n",
              "    <tr>\n",
              "      <th>0</th>\n",
              "      <td>0.0</td>\n",
              "      <td>0.0</td>\n",
              "      <td>0.0</td>\n",
              "      <td>0.0</td>\n",
              "      <td>0.0</td>\n",
              "      <td>0.0</td>\n",
              "      <td>0.0</td>\n",
              "      <td>0.0</td>\n",
              "      <td>0.0</td>\n",
              "      <td>0.000000</td>\n",
              "      <td>...</td>\n",
              "      <td>0.0</td>\n",
              "      <td>0.0</td>\n",
              "      <td>0.0</td>\n",
              "      <td>0.0</td>\n",
              "      <td>0.0</td>\n",
              "      <td>0.0</td>\n",
              "      <td>0.0</td>\n",
              "      <td>0.0</td>\n",
              "      <td>0.0</td>\n",
              "      <td>0.0</td>\n",
              "    </tr>\n",
              "    <tr>\n",
              "      <th>1</th>\n",
              "      <td>0.0</td>\n",
              "      <td>0.0</td>\n",
              "      <td>0.0</td>\n",
              "      <td>0.0</td>\n",
              "      <td>0.0</td>\n",
              "      <td>0.0</td>\n",
              "      <td>0.0</td>\n",
              "      <td>0.0</td>\n",
              "      <td>0.0</td>\n",
              "      <td>0.000000</td>\n",
              "      <td>...</td>\n",
              "      <td>0.0</td>\n",
              "      <td>0.0</td>\n",
              "      <td>0.0</td>\n",
              "      <td>0.0</td>\n",
              "      <td>0.0</td>\n",
              "      <td>0.0</td>\n",
              "      <td>0.0</td>\n",
              "      <td>0.0</td>\n",
              "      <td>0.0</td>\n",
              "      <td>0.0</td>\n",
              "    </tr>\n",
              "    <tr>\n",
              "      <th>2</th>\n",
              "      <td>0.0</td>\n",
              "      <td>0.0</td>\n",
              "      <td>0.0</td>\n",
              "      <td>0.0</td>\n",
              "      <td>0.0</td>\n",
              "      <td>0.0</td>\n",
              "      <td>0.0</td>\n",
              "      <td>0.0</td>\n",
              "      <td>0.0</td>\n",
              "      <td>0.213064</td>\n",
              "      <td>...</td>\n",
              "      <td>0.0</td>\n",
              "      <td>0.0</td>\n",
              "      <td>0.0</td>\n",
              "      <td>0.0</td>\n",
              "      <td>0.0</td>\n",
              "      <td>0.0</td>\n",
              "      <td>0.0</td>\n",
              "      <td>0.0</td>\n",
              "      <td>0.0</td>\n",
              "      <td>0.0</td>\n",
              "    </tr>\n",
              "    <tr>\n",
              "      <th>3</th>\n",
              "      <td>0.0</td>\n",
              "      <td>0.0</td>\n",
              "      <td>0.0</td>\n",
              "      <td>0.0</td>\n",
              "      <td>0.0</td>\n",
              "      <td>0.0</td>\n",
              "      <td>0.0</td>\n",
              "      <td>0.0</td>\n",
              "      <td>0.0</td>\n",
              "      <td>0.000000</td>\n",
              "      <td>...</td>\n",
              "      <td>0.0</td>\n",
              "      <td>0.0</td>\n",
              "      <td>0.0</td>\n",
              "      <td>0.0</td>\n",
              "      <td>0.0</td>\n",
              "      <td>0.0</td>\n",
              "      <td>0.0</td>\n",
              "      <td>0.0</td>\n",
              "      <td>0.0</td>\n",
              "      <td>0.0</td>\n",
              "    </tr>\n",
              "    <tr>\n",
              "      <th>4</th>\n",
              "      <td>0.0</td>\n",
              "      <td>0.0</td>\n",
              "      <td>0.0</td>\n",
              "      <td>0.0</td>\n",
              "      <td>0.0</td>\n",
              "      <td>0.0</td>\n",
              "      <td>0.0</td>\n",
              "      <td>0.0</td>\n",
              "      <td>0.0</td>\n",
              "      <td>0.000000</td>\n",
              "      <td>...</td>\n",
              "      <td>0.0</td>\n",
              "      <td>0.0</td>\n",
              "      <td>0.0</td>\n",
              "      <td>0.0</td>\n",
              "      <td>0.0</td>\n",
              "      <td>0.0</td>\n",
              "      <td>0.0</td>\n",
              "      <td>0.0</td>\n",
              "      <td>0.0</td>\n",
              "      <td>0.0</td>\n",
              "    </tr>\n",
              "  </tbody>\n",
              "</table>\n",
              "<p>5 rows × 10000 columns</p>\n",
              "</div>\n",
              "    <div class=\"colab-df-buttons\">\n",
              "\n",
              "  <div class=\"colab-df-container\">\n",
              "    <button class=\"colab-df-convert\" onclick=\"convertToInteractive('df-1104e850-d1ec-4c94-873b-45dfd0f26c07')\"\n",
              "            title=\"Convert this dataframe to an interactive table.\"\n",
              "            style=\"display:none;\">\n",
              "\n",
              "  <svg xmlns=\"http://www.w3.org/2000/svg\" height=\"24px\" viewBox=\"0 -960 960 960\">\n",
              "    <path d=\"M120-120v-720h720v720H120Zm60-500h600v-160H180v160Zm220 220h160v-160H400v160Zm0 220h160v-160H400v160ZM180-400h160v-160H180v160Zm440 0h160v-160H620v160ZM180-180h160v-160H180v160Zm440 0h160v-160H620v160Z\"/>\n",
              "  </svg>\n",
              "    </button>\n",
              "\n",
              "  <style>\n",
              "    .colab-df-container {\n",
              "      display:flex;\n",
              "      gap: 12px;\n",
              "    }\n",
              "\n",
              "    .colab-df-convert {\n",
              "      background-color: #E8F0FE;\n",
              "      border: none;\n",
              "      border-radius: 50%;\n",
              "      cursor: pointer;\n",
              "      display: none;\n",
              "      fill: #1967D2;\n",
              "      height: 32px;\n",
              "      padding: 0 0 0 0;\n",
              "      width: 32px;\n",
              "    }\n",
              "\n",
              "    .colab-df-convert:hover {\n",
              "      background-color: #E2EBFA;\n",
              "      box-shadow: 0px 1px 2px rgba(60, 64, 67, 0.3), 0px 1px 3px 1px rgba(60, 64, 67, 0.15);\n",
              "      fill: #174EA6;\n",
              "    }\n",
              "\n",
              "    .colab-df-buttons div {\n",
              "      margin-bottom: 4px;\n",
              "    }\n",
              "\n",
              "    [theme=dark] .colab-df-convert {\n",
              "      background-color: #3B4455;\n",
              "      fill: #D2E3FC;\n",
              "    }\n",
              "\n",
              "    [theme=dark] .colab-df-convert:hover {\n",
              "      background-color: #434B5C;\n",
              "      box-shadow: 0px 1px 3px 1px rgba(0, 0, 0, 0.15);\n",
              "      filter: drop-shadow(0px 1px 2px rgba(0, 0, 0, 0.3));\n",
              "      fill: #FFFFFF;\n",
              "    }\n",
              "  </style>\n",
              "\n",
              "    <script>\n",
              "      const buttonEl =\n",
              "        document.querySelector('#df-1104e850-d1ec-4c94-873b-45dfd0f26c07 button.colab-df-convert');\n",
              "      buttonEl.style.display =\n",
              "        google.colab.kernel.accessAllowed ? 'block' : 'none';\n",
              "\n",
              "      async function convertToInteractive(key) {\n",
              "        const element = document.querySelector('#df-1104e850-d1ec-4c94-873b-45dfd0f26c07');\n",
              "        const dataTable =\n",
              "          await google.colab.kernel.invokeFunction('convertToInteractive',\n",
              "                                                    [key], {});\n",
              "        if (!dataTable) return;\n",
              "\n",
              "        const docLinkHtml = 'Like what you see? Visit the ' +\n",
              "          '<a target=\"_blank\" href=https://colab.research.google.com/notebooks/data_table.ipynb>data table notebook</a>'\n",
              "          + ' to learn more about interactive tables.';\n",
              "        element.innerHTML = '';\n",
              "        dataTable['output_type'] = 'display_data';\n",
              "        await google.colab.output.renderOutput(dataTable, element);\n",
              "        const docLink = document.createElement('div');\n",
              "        docLink.innerHTML = docLinkHtml;\n",
              "        element.appendChild(docLink);\n",
              "      }\n",
              "    </script>\n",
              "  </div>\n",
              "\n",
              "\n",
              "<div id=\"df-6503a72f-25b0-4e75-8d84-0e9b55914170\">\n",
              "  <button class=\"colab-df-quickchart\" onclick=\"quickchart('df-6503a72f-25b0-4e75-8d84-0e9b55914170')\"\n",
              "            title=\"Suggest charts\"\n",
              "            style=\"display:none;\">\n",
              "\n",
              "<svg xmlns=\"http://www.w3.org/2000/svg\" height=\"24px\"viewBox=\"0 0 24 24\"\n",
              "     width=\"24px\">\n",
              "    <g>\n",
              "        <path d=\"M19 3H5c-1.1 0-2 .9-2 2v14c0 1.1.9 2 2 2h14c1.1 0 2-.9 2-2V5c0-1.1-.9-2-2-2zM9 17H7v-7h2v7zm4 0h-2V7h2v10zm4 0h-2v-4h2v4z\"/>\n",
              "    </g>\n",
              "</svg>\n",
              "  </button>\n",
              "\n",
              "<style>\n",
              "  .colab-df-quickchart {\n",
              "      --bg-color: #E8F0FE;\n",
              "      --fill-color: #1967D2;\n",
              "      --hover-bg-color: #E2EBFA;\n",
              "      --hover-fill-color: #174EA6;\n",
              "      --disabled-fill-color: #AAA;\n",
              "      --disabled-bg-color: #DDD;\n",
              "  }\n",
              "\n",
              "  [theme=dark] .colab-df-quickchart {\n",
              "      --bg-color: #3B4455;\n",
              "      --fill-color: #D2E3FC;\n",
              "      --hover-bg-color: #434B5C;\n",
              "      --hover-fill-color: #FFFFFF;\n",
              "      --disabled-bg-color: #3B4455;\n",
              "      --disabled-fill-color: #666;\n",
              "  }\n",
              "\n",
              "  .colab-df-quickchart {\n",
              "    background-color: var(--bg-color);\n",
              "    border: none;\n",
              "    border-radius: 50%;\n",
              "    cursor: pointer;\n",
              "    display: none;\n",
              "    fill: var(--fill-color);\n",
              "    height: 32px;\n",
              "    padding: 0;\n",
              "    width: 32px;\n",
              "  }\n",
              "\n",
              "  .colab-df-quickchart:hover {\n",
              "    background-color: var(--hover-bg-color);\n",
              "    box-shadow: 0 1px 2px rgba(60, 64, 67, 0.3), 0 1px 3px 1px rgba(60, 64, 67, 0.15);\n",
              "    fill: var(--button-hover-fill-color);\n",
              "  }\n",
              "\n",
              "  .colab-df-quickchart-complete:disabled,\n",
              "  .colab-df-quickchart-complete:disabled:hover {\n",
              "    background-color: var(--disabled-bg-color);\n",
              "    fill: var(--disabled-fill-color);\n",
              "    box-shadow: none;\n",
              "  }\n",
              "\n",
              "  .colab-df-spinner {\n",
              "    border: 2px solid var(--fill-color);\n",
              "    border-color: transparent;\n",
              "    border-bottom-color: var(--fill-color);\n",
              "    animation:\n",
              "      spin 1s steps(1) infinite;\n",
              "  }\n",
              "\n",
              "  @keyframes spin {\n",
              "    0% {\n",
              "      border-color: transparent;\n",
              "      border-bottom-color: var(--fill-color);\n",
              "      border-left-color: var(--fill-color);\n",
              "    }\n",
              "    20% {\n",
              "      border-color: transparent;\n",
              "      border-left-color: var(--fill-color);\n",
              "      border-top-color: var(--fill-color);\n",
              "    }\n",
              "    30% {\n",
              "      border-color: transparent;\n",
              "      border-left-color: var(--fill-color);\n",
              "      border-top-color: var(--fill-color);\n",
              "      border-right-color: var(--fill-color);\n",
              "    }\n",
              "    40% {\n",
              "      border-color: transparent;\n",
              "      border-right-color: var(--fill-color);\n",
              "      border-top-color: var(--fill-color);\n",
              "    }\n",
              "    60% {\n",
              "      border-color: transparent;\n",
              "      border-right-color: var(--fill-color);\n",
              "    }\n",
              "    80% {\n",
              "      border-color: transparent;\n",
              "      border-right-color: var(--fill-color);\n",
              "      border-bottom-color: var(--fill-color);\n",
              "    }\n",
              "    90% {\n",
              "      border-color: transparent;\n",
              "      border-bottom-color: var(--fill-color);\n",
              "    }\n",
              "  }\n",
              "</style>\n",
              "\n",
              "  <script>\n",
              "    async function quickchart(key) {\n",
              "      const quickchartButtonEl =\n",
              "        document.querySelector('#' + key + ' button');\n",
              "      quickchartButtonEl.disabled = true;  // To prevent multiple clicks.\n",
              "      quickchartButtonEl.classList.add('colab-df-spinner');\n",
              "      try {\n",
              "        const charts = await google.colab.kernel.invokeFunction(\n",
              "            'suggestCharts', [key], {});\n",
              "      } catch (error) {\n",
              "        console.error('Error during call to suggestCharts:', error);\n",
              "      }\n",
              "      quickchartButtonEl.classList.remove('colab-df-spinner');\n",
              "      quickchartButtonEl.classList.add('colab-df-quickchart-complete');\n",
              "    }\n",
              "    (() => {\n",
              "      let quickchartButtonEl =\n",
              "        document.querySelector('#df-6503a72f-25b0-4e75-8d84-0e9b55914170 button');\n",
              "      quickchartButtonEl.style.display =\n",
              "        google.colab.kernel.accessAllowed ? 'block' : 'none';\n",
              "    })();\n",
              "  </script>\n",
              "</div>\n",
              "    </div>\n",
              "  </div>\n"
            ]
          },
          "metadata": {},
          "execution_count": 17
        }
      ]
    },
    {
      "cell_type": "markdown",
      "source": [
        "#Классификация"
      ],
      "metadata": {
        "id": "uKpJWVPv3FAv"
      }
    },
    {
      "cell_type": "code",
      "source": [
        "# Разделяем данные на обучающую и тестовую выборки\n",
        "X_train, X_test, y_train, y_test = train_test_split(tfidf_matrix, df['toxic'], test_size=0.2, random_state=42)\n",
        "\n",
        "# Создаем и обучаем модель логистической регрессии\n",
        "model = LogisticRegression()\n",
        "model.fit(X_train, y_train)\n",
        "\n",
        "# Делаем предсказания на тестовой выборке\n",
        "y_pred = model.predict(X_test)\n",
        "\n",
        "# Оцениваем модель\n",
        "print(classification_report(y_test, y_pred))\n"
      ],
      "metadata": {
        "colab": {
          "base_uri": "https://localhost:8080/"
        },
        "id": "tEU_gzzrtrzJ",
        "outputId": "dd663ac1-2d65-4a84-b9d7-2b0a9dc14c2e"
      },
      "execution_count": 19,
      "outputs": [
        {
          "output_type": "stream",
          "name": "stdout",
          "text": [
            "              precision    recall  f1-score   support\n",
            "\n",
            "           0       0.95      1.00      0.97     14289\n",
            "           1       0.94      0.58      0.71      1641\n",
            "\n",
            "    accuracy                           0.95     15930\n",
            "   macro avg       0.95      0.79      0.84     15930\n",
            "weighted avg       0.95      0.95      0.95     15930\n",
            "\n"
          ]
        }
      ]
    },
    {
      "cell_type": "markdown",
      "source": [
        "Hезультаты классификации выглядят довольно хорошо, особенно с точки зрения точности (precision) и общей точности (accuracy). recall и f1-score для класса 1 (токсичные комментарии) ниже, чем для класса 0. Это означает, что модель лучше справляется с распознаванием нетоксичных комментариев, чем токсичных."
      ],
      "metadata": {
        "id": "vaAiwLHJ4zR_"
      }
    }
  ],
  "metadata": {
    "ExecuteTimeLog": [
      {
        "duration": 2026,
        "start_time": "2022-05-18T13:21:27.852Z"
      },
      {
        "duration": 2536,
        "start_time": "2022-05-18T13:21:44.857Z"
      },
      {
        "duration": 33,
        "start_time": "2022-05-18T13:21:52.950Z"
      },
      {
        "duration": 14,
        "start_time": "2022-05-18T13:22:01.446Z"
      },
      {
        "duration": 30,
        "start_time": "2022-05-18T13:22:13.433Z"
      },
      {
        "duration": 131,
        "start_time": "2022-05-18T13:22:20.854Z"
      },
      {
        "duration": 240,
        "start_time": "2022-05-18T13:22:23.261Z"
      },
      {
        "duration": 10,
        "start_time": "2022-05-18T13:22:34.238Z"
      },
      {
        "duration": 11,
        "start_time": "2022-05-18T13:23:57.638Z"
      },
      {
        "duration": 3,
        "start_time": "2022-05-18T13:24:07.221Z"
      },
      {
        "duration": 13,
        "start_time": "2022-05-18T13:25:05.984Z"
      },
      {
        "duration": 12,
        "start_time": "2022-05-18T13:28:16.909Z"
      },
      {
        "duration": 45927,
        "start_time": "2022-05-18T13:28:35.272Z"
      },
      {
        "duration": 4,
        "start_time": "2022-05-18T13:29:55.038Z"
      },
      {
        "duration": 52,
        "start_time": "2022-05-18T13:29:58.154Z"
      },
      {
        "duration": 73,
        "start_time": "2022-05-18T13:30:05.581Z"
      },
      {
        "duration": 34,
        "start_time": "2022-05-18T13:30:09.090Z"
      },
      {
        "duration": 46,
        "start_time": "2022-05-18T13:30:36.812Z"
      },
      {
        "duration": 7,
        "start_time": "2022-05-18T13:30:45.691Z"
      },
      {
        "duration": 6,
        "start_time": "2022-05-18T13:30:55.213Z"
      },
      {
        "duration": 16,
        "start_time": "2022-05-18T13:31:07.528Z"
      },
      {
        "duration": 5559,
        "start_time": "2022-05-18T13:31:17.251Z"
      },
      {
        "duration": 6773,
        "start_time": "2022-05-18T13:31:42.640Z"
      },
      {
        "duration": 3,
        "start_time": "2022-05-18T13:31:57.941Z"
      },
      {
        "duration": 3,
        "start_time": "2022-05-18T13:32:41.964Z"
      },
      {
        "duration": 1817,
        "start_time": "2022-05-18T13:32:48.660Z"
      },
      {
        "duration": 946,
        "start_time": "2022-05-18T13:32:57.411Z"
      },
      {
        "duration": 272,
        "start_time": "2022-05-18T13:33:04.651Z"
      },
      {
        "duration": 57,
        "start_time": "2022-05-18T13:33:12.043Z"
      },
      {
        "duration": 10,
        "start_time": "2022-05-18T13:33:18.859Z"
      },
      {
        "duration": 4,
        "start_time": "2022-05-18T13:33:40.839Z"
      },
      {
        "duration": 13821,
        "start_time": "2022-05-18T13:33:52.326Z"
      },
      {
        "duration": 1895,
        "start_time": "2022-05-18T13:34:06.149Z"
      },
      {
        "duration": 100322,
        "start_time": "2022-05-18T13:34:09.540Z"
      },
      {
        "duration": 946,
        "start_time": "2022-05-18T13:35:49.864Z"
      },
      {
        "duration": 8805,
        "start_time": "2022-05-18T13:35:50.811Z"
      },
      {
        "duration": 616,
        "start_time": "2022-05-18T13:35:59.618Z"
      },
      {
        "duration": 771,
        "start_time": "2022-05-18T13:36:00.238Z"
      },
      {
        "duration": 70,
        "start_time": "2022-05-18T13:36:01.011Z"
      },
      {
        "duration": 11,
        "start_time": "2022-05-18T13:36:01.083Z"
      },
      {
        "duration": 1981,
        "start_time": "2022-05-18T13:36:01.096Z"
      },
      {
        "duration": 941,
        "start_time": "2022-05-18T13:36:03.078Z"
      },
      {
        "duration": 571,
        "start_time": "2022-05-18T13:36:04.021Z"
      },
      {
        "duration": 61,
        "start_time": "2022-05-18T13:36:04.594Z"
      },
      {
        "duration": 13,
        "start_time": "2022-05-18T13:36:04.657Z"
      },
      {
        "duration": 3,
        "start_time": "2022-05-18T13:36:07.298Z"
      },
      {
        "duration": 10,
        "start_time": "2022-05-18T13:36:17.796Z"
      },
      {
        "duration": 12,
        "start_time": "2022-05-18T13:36:58.476Z"
      },
      {
        "duration": 3,
        "start_time": "2022-05-18T13:37:02.061Z"
      },
      {
        "duration": 15480,
        "start_time": "2022-05-18T13:37:09.868Z"
      },
      {
        "duration": 5,
        "start_time": "2022-05-18T13:37:26.500Z"
      },
      {
        "duration": 979,
        "start_time": "2022-05-18T13:37:36.581Z"
      },
      {
        "duration": 27,
        "start_time": "2022-05-18T13:37:44.782Z"
      },
      {
        "duration": 5,
        "start_time": "2022-05-18T13:37:55.468Z"
      },
      {
        "duration": 2428,
        "start_time": "2022-05-18T14:03:56.513Z"
      },
      {
        "duration": 3523,
        "start_time": "2022-05-18T14:03:58.943Z"
      },
      {
        "duration": 37,
        "start_time": "2022-05-18T14:04:02.467Z"
      },
      {
        "duration": 15,
        "start_time": "2022-05-18T14:04:02.509Z"
      },
      {
        "duration": 25,
        "start_time": "2022-05-18T14:04:02.526Z"
      },
      {
        "duration": 253,
        "start_time": "2022-05-18T14:04:02.553Z"
      },
      {
        "duration": 10,
        "start_time": "2022-05-18T14:04:02.809Z"
      },
      {
        "duration": 7,
        "start_time": "2022-05-18T14:04:02.821Z"
      },
      {
        "duration": 48774,
        "start_time": "2022-05-18T14:04:02.830Z"
      },
      {
        "duration": 4,
        "start_time": "2022-05-18T14:04:51.607Z"
      },
      {
        "duration": 64,
        "start_time": "2022-05-18T14:04:51.613Z"
      },
      {
        "duration": 42,
        "start_time": "2022-05-18T14:04:51.679Z"
      },
      {
        "duration": 40,
        "start_time": "2022-05-18T14:04:51.723Z"
      },
      {
        "duration": 6,
        "start_time": "2022-05-18T14:04:51.765Z"
      },
      {
        "duration": 10,
        "start_time": "2022-05-18T14:04:51.773Z"
      },
      {
        "duration": 10,
        "start_time": "2022-05-18T14:04:51.785Z"
      },
      {
        "duration": 5360,
        "start_time": "2022-05-18T14:04:51.801Z"
      },
      {
        "duration": 6911,
        "start_time": "2022-05-18T14:04:57.163Z"
      },
      {
        "duration": 5,
        "start_time": "2022-05-18T14:05:04.076Z"
      },
      {
        "duration": 1862,
        "start_time": "2022-05-18T14:05:04.083Z"
      },
      {
        "duration": 983,
        "start_time": "2022-05-18T14:05:05.947Z"
      },
      {
        "duration": 284,
        "start_time": "2022-05-18T14:05:06.932Z"
      },
      {
        "duration": 52,
        "start_time": "2022-05-18T14:05:07.217Z"
      },
      {
        "duration": 29,
        "start_time": "2022-05-18T14:05:07.270Z"
      },
      {
        "duration": 34,
        "start_time": "2022-05-18T14:05:07.301Z"
      },
      {
        "duration": 12798,
        "start_time": "2022-05-18T14:05:07.337Z"
      },
      {
        "duration": 1778,
        "start_time": "2022-05-18T14:05:20.137Z"
      },
      {
        "duration": 105001,
        "start_time": "2022-05-18T14:05:21.919Z"
      },
      {
        "duration": 1061,
        "start_time": "2022-05-18T14:07:06.922Z"
      },
      {
        "duration": 8018,
        "start_time": "2022-05-18T14:07:07.984Z"
      },
      {
        "duration": 565,
        "start_time": "2022-05-18T14:07:16.004Z"
      },
      {
        "duration": 742,
        "start_time": "2022-05-18T14:07:16.571Z"
      },
      {
        "duration": 53,
        "start_time": "2022-05-18T14:07:17.315Z"
      },
      {
        "duration": 27,
        "start_time": "2022-05-18T14:07:17.370Z"
      },
      {
        "duration": 1832,
        "start_time": "2022-05-18T14:07:17.400Z"
      },
      {
        "duration": 1019,
        "start_time": "2022-05-18T14:07:19.234Z"
      },
      {
        "duration": 530,
        "start_time": "2022-05-18T14:07:20.254Z"
      },
      {
        "duration": 47,
        "start_time": "2022-05-18T14:07:20.786Z"
      },
      {
        "duration": 8,
        "start_time": "2022-05-18T14:07:20.834Z"
      },
      {
        "duration": 22,
        "start_time": "2022-05-18T14:07:20.844Z"
      },
      {
        "duration": 29,
        "start_time": "2022-05-18T14:07:20.867Z"
      },
      {
        "duration": 1718,
        "start_time": "2022-05-20T15:42:12.666Z"
      },
      {
        "duration": 2413,
        "start_time": "2022-05-20T15:42:14.387Z"
      },
      {
        "duration": 29,
        "start_time": "2022-05-20T15:42:16.801Z"
      },
      {
        "duration": 14,
        "start_time": "2022-05-20T15:42:16.832Z"
      },
      {
        "duration": 49415,
        "start_time": "2022-05-20T15:44:50.541Z"
      },
      {
        "duration": 36,
        "start_time": "2022-05-20T15:46:11.658Z"
      },
      {
        "duration": 251,
        "start_time": "2022-05-20T15:46:12.137Z"
      },
      {
        "duration": 6,
        "start_time": "2022-05-20T15:46:12.536Z"
      },
      {
        "duration": 25,
        "start_time": "2022-05-20T15:46:13.352Z"
      },
      {
        "duration": 46564,
        "start_time": "2022-05-20T15:46:13.837Z"
      },
      {
        "duration": 4,
        "start_time": "2022-05-20T15:47:00.403Z"
      },
      {
        "duration": 80,
        "start_time": "2022-05-20T15:47:00.409Z"
      },
      {
        "duration": 19,
        "start_time": "2022-05-20T15:47:13.153Z"
      },
      {
        "duration": 123,
        "start_time": "2022-05-20T15:47:26.978Z"
      },
      {
        "duration": 9,
        "start_time": "2022-05-20T15:47:36.642Z"
      },
      {
        "duration": 702,
        "start_time": "2022-05-20T15:48:05.621Z"
      },
      {
        "duration": 14,
        "start_time": "2022-05-20T15:48:15.043Z"
      },
      {
        "duration": 95,
        "start_time": "2022-05-20T15:49:29.179Z"
      },
      {
        "duration": 67,
        "start_time": "2022-05-20T15:49:49.843Z"
      },
      {
        "duration": 43,
        "start_time": "2022-05-20T15:49:50.641Z"
      },
      {
        "duration": 28,
        "start_time": "2022-05-20T15:51:27.930Z"
      },
      {
        "duration": 64,
        "start_time": "2022-05-20T17:06:08.066Z"
      },
      {
        "duration": 12,
        "start_time": "2022-05-20T17:40:32.364Z"
      },
      {
        "duration": 1351,
        "start_time": "2022-05-20T17:41:32.518Z"
      },
      {
        "duration": 894,
        "start_time": "2022-05-20T17:41:33.871Z"
      },
      {
        "duration": 33,
        "start_time": "2022-05-20T17:41:34.767Z"
      },
      {
        "duration": 14,
        "start_time": "2022-05-20T17:41:34.802Z"
      },
      {
        "duration": 56,
        "start_time": "2022-05-20T17:41:34.819Z"
      },
      {
        "duration": 248,
        "start_time": "2022-05-20T17:41:34.877Z"
      },
      {
        "duration": 7,
        "start_time": "2022-05-20T17:41:35.126Z"
      },
      {
        "duration": 46041,
        "start_time": "2022-05-20T17:41:35.134Z"
      },
      {
        "duration": 4,
        "start_time": "2022-05-20T17:42:21.178Z"
      },
      {
        "duration": 96,
        "start_time": "2022-05-20T17:42:21.184Z"
      },
      {
        "duration": 33,
        "start_time": "2022-05-20T17:42:21.282Z"
      },
      {
        "duration": 51,
        "start_time": "2022-05-20T17:42:21.317Z"
      },
      {
        "duration": 6,
        "start_time": "2022-05-20T17:42:21.370Z"
      },
      {
        "duration": 7,
        "start_time": "2022-05-20T17:42:21.379Z"
      },
      {
        "duration": 8,
        "start_time": "2022-05-20T17:42:21.387Z"
      },
      {
        "duration": 5252,
        "start_time": "2022-05-20T17:42:21.397Z"
      },
      {
        "duration": 6830,
        "start_time": "2022-05-20T17:42:26.650Z"
      },
      {
        "duration": 3,
        "start_time": "2022-05-20T17:42:33.482Z"
      },
      {
        "duration": 1756,
        "start_time": "2022-05-20T17:42:33.486Z"
      },
      {
        "duration": 897,
        "start_time": "2022-05-20T17:42:35.244Z"
      },
      {
        "duration": 278,
        "start_time": "2022-05-20T17:42:36.143Z"
      },
      {
        "duration": 60,
        "start_time": "2022-05-20T17:42:36.423Z"
      },
      {
        "duration": 8,
        "start_time": "2022-05-20T17:42:36.485Z"
      },
      {
        "duration": 6,
        "start_time": "2022-05-20T17:42:36.495Z"
      },
      {
        "duration": 13007,
        "start_time": "2022-05-20T17:42:36.503Z"
      },
      {
        "duration": 1835,
        "start_time": "2022-05-20T17:42:49.512Z"
      },
      {
        "duration": 66011,
        "start_time": "2022-05-20T17:42:51.349Z"
      },
      {
        "duration": 0,
        "start_time": "2022-05-20T17:43:57.362Z"
      },
      {
        "duration": 0,
        "start_time": "2022-05-20T17:43:57.363Z"
      },
      {
        "duration": 0,
        "start_time": "2022-05-20T17:43:57.364Z"
      },
      {
        "duration": 0,
        "start_time": "2022-05-20T17:43:57.365Z"
      },
      {
        "duration": 0,
        "start_time": "2022-05-20T17:43:57.366Z"
      },
      {
        "duration": 0,
        "start_time": "2022-05-20T17:43:57.367Z"
      },
      {
        "duration": 0,
        "start_time": "2022-05-20T17:43:57.368Z"
      },
      {
        "duration": 0,
        "start_time": "2022-05-20T17:43:57.369Z"
      },
      {
        "duration": 0,
        "start_time": "2022-05-20T17:43:57.371Z"
      },
      {
        "duration": 0,
        "start_time": "2022-05-20T17:43:57.372Z"
      },
      {
        "duration": 0,
        "start_time": "2022-05-20T17:43:57.372Z"
      },
      {
        "duration": 0,
        "start_time": "2022-05-20T17:43:57.373Z"
      },
      {
        "duration": 0,
        "start_time": "2022-05-20T17:43:57.374Z"
      },
      {
        "duration": 112027,
        "start_time": "2022-05-20T17:44:00.109Z"
      },
      {
        "duration": 845,
        "start_time": "2022-05-20T17:45:56.640Z"
      },
      {
        "duration": 8050,
        "start_time": "2022-05-20T17:45:58.438Z"
      },
      {
        "duration": 528,
        "start_time": "2022-05-20T17:46:09.862Z"
      },
      {
        "duration": 730,
        "start_time": "2022-05-20T17:46:13.127Z"
      },
      {
        "duration": 56,
        "start_time": "2022-05-20T17:46:14.918Z"
      },
      {
        "duration": 11,
        "start_time": "2022-05-20T17:46:16.678Z"
      },
      {
        "duration": 1740,
        "start_time": "2022-05-20T17:46:22.334Z"
      },
      {
        "duration": 774,
        "start_time": "2022-05-20T17:46:24.838Z"
      },
      {
        "duration": 504,
        "start_time": "2022-05-20T17:46:25.614Z"
      },
      {
        "duration": 47,
        "start_time": "2022-05-20T17:46:26.120Z"
      },
      {
        "duration": 9,
        "start_time": "2022-05-20T17:46:26.438Z"
      },
      {
        "duration": 4,
        "start_time": "2022-05-20T17:46:30.159Z"
      },
      {
        "duration": 13,
        "start_time": "2022-05-20T17:46:30.622Z"
      }
    ],
    "kernelspec": {
      "display_name": "Python 3",
      "name": "python3"
    },
    "language_info": {
      "codemirror_mode": {
        "name": "ipython",
        "version": 3
      },
      "file_extension": ".py",
      "mimetype": "text/x-python",
      "name": "python",
      "nbconvert_exporter": "python",
      "pygments_lexer": "ipython3",
      "version": "3.9.5"
    },
    "toc": {
      "base_numbering": 1,
      "nav_menu": {},
      "number_sections": true,
      "sideBar": true,
      "skip_h1_title": true,
      "title_cell": "Содержание",
      "title_sidebar": "Contents",
      "toc_cell": true,
      "toc_position": {
        "height": "calc(100% - 180px)",
        "left": "10px",
        "top": "150px",
        "width": "302.391px"
      },
      "toc_section_display": true,
      "toc_window_display": false
    },
    "colab": {
      "provenance": [],
      "gpuType": "T4"
    },
    "accelerator": "GPU"
  },
  "nbformat": 4,
  "nbformat_minor": 0
}